{
  "nbformat": 4,
  "nbformat_minor": 0,
  "metadata": {
    "colab": {
      "name": "0607-1.ipynb",
      "provenance": []
    },
    "kernelspec": {
      "name": "python3",
      "display_name": "Python 3"
    },
    "language_info": {
      "name": "python"
    }
  },
  "cells": [
    {
      "cell_type": "code",
      "execution_count": 1,
      "metadata": {
        "colab": {
          "base_uri": "https://localhost:8080/"
        },
        "id": "KzswcITAt60v",
        "outputId": "92ab1f85-067e-4852-fe21-da7dbd8319f9"
      },
      "outputs": [
        {
          "output_type": "execute_result",
          "data": {
            "text/plain": [
              "[0, 0, 0, 0, 0, 1, 1, 1, 1, 1]"
            ]
          },
          "metadata": {},
          "execution_count": 1
        }
      ],
      "source": [
        "[-0.4, -0.3, -0.2, -0.1, 0.6, 0.8, 0.9, 0.7, 0.8, 0.4]\n",
        "[0.3, -0.1, 0.4, 0.1, -0.5, 0.7, -0.5, -0.9, 0.2, -0.6]\n",
        "[0, 0, 0, 0, 0, 1, 1, 1, 1, 1]"
      ]
    },
    {
      "cell_type": "code",
      "source": [
        "import numpy as np\n",
        "b= np.array([-0.4, -0.3, -0.2, -0.1, 0.6, 0.8, 0.9, 0.7, 0.8, 0.4])\n",
        "print(type(b))\n",
        "print(b+1)\n",
        "a=np.array([0.3, -0.1, 0.4, 0.1, -0.5, 0.7, -0.5, -0.9, 0.2, -0.6])\n",
        "print(a-b)\n"
      ],
      "metadata": {
        "colab": {
          "base_uri": "https://localhost:8080/"
        },
        "id": "Lrw23I9Hwv1l",
        "outputId": "933393d4-dcab-4bde-cbd3-29ce35dabd54"
      },
      "execution_count": 4,
      "outputs": [
        {
          "output_type": "stream",
          "name": "stdout",
          "text": [
            "<class 'numpy.ndarray'>\n",
            "[0.6 0.7 0.8 0.9 1.6 1.8 1.9 1.7 1.8 1.4]\n",
            "[ 0.7  0.2  0.6  0.2 -1.1 -0.1 -1.4 -1.6 -0.6 -1. ]\n"
          ]
        }
      ]
    }
  ]
}